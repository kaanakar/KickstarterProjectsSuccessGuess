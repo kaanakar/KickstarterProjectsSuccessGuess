{
 "cells": [
  {
   "cell_type": "code",
   "execution_count": 2,
   "metadata": {},
   "outputs": [],
   "source": [
    "#%tensorflow_version 2.x\n",
    "from __future__ import absolute_import, division, print_function, unicode_literals\n",
    "\n",
    "import numpy as np\n",
    "import pandas as pd\n",
    "import matplotlib.pyplot as plt\n",
    "import seaborn as sns\n",
    "sns.set(style='whitegrid')\n",
    "\n",
    "from IPython.display import clear_output\n",
    "from six.moves import urllib\n",
    "\n",
    "import tensorflow.compat.v2.feature_column as fc\n",
    "\n",
    "import tensorflow as tf"
   ]
  },
  {
   "cell_type": "code",
   "execution_count": 3,
   "metadata": {},
   "outputs": [
    {
     "name": "stdout",
     "output_type": "stream",
     "text": [
      "input\\ks-projects-201612.csv\n",
      "input\\ks-projects-201801.csv\n"
     ]
    }
   ],
   "source": [
    "import os\n",
    "for dirname, _, filenames in os.walk(\"input\"):\n",
    "    for filename in filenames:\n",
    "        print(os.path.join(dirname, filename))"
   ]
  },
  {
   "cell_type": "code",
   "execution_count": 97,
   "metadata": {},
   "outputs": [],
   "source": [
    "prj2018 = pd.read_csv(\"input\\ks-projects-201801.csv\")"
   ]
  },
  {
   "cell_type": "code",
   "execution_count": 98,
   "metadata": {},
   "outputs": [
    {
     "data": {
      "text/html": [
       "<div>\n",
       "<style scoped>\n",
       "    .dataframe tbody tr th:only-of-type {\n",
       "        vertical-align: middle;\n",
       "    }\n",
       "\n",
       "    .dataframe tbody tr th {\n",
       "        vertical-align: top;\n",
       "    }\n",
       "\n",
       "    .dataframe thead th {\n",
       "        text-align: right;\n",
       "    }\n",
       "</style>\n",
       "<table border=\"1\" class=\"dataframe\">\n",
       "  <thead>\n",
       "    <tr style=\"text-align: right;\">\n",
       "      <th></th>\n",
       "      <th>ID</th>\n",
       "      <th>name</th>\n",
       "      <th>category</th>\n",
       "      <th>main_category</th>\n",
       "      <th>currency</th>\n",
       "      <th>deadline</th>\n",
       "      <th>goal</th>\n",
       "      <th>launched</th>\n",
       "      <th>pledged</th>\n",
       "      <th>state</th>\n",
       "      <th>backers</th>\n",
       "      <th>country</th>\n",
       "      <th>usd pledged</th>\n",
       "      <th>usd_pledged_real</th>\n",
       "      <th>usd_goal_real</th>\n",
       "    </tr>\n",
       "  </thead>\n",
       "  <tbody>\n",
       "    <tr>\n",
       "      <th>0</th>\n",
       "      <td>1000002330</td>\n",
       "      <td>The Songs of Adelaide &amp; Abullah</td>\n",
       "      <td>Poetry</td>\n",
       "      <td>Publishing</td>\n",
       "      <td>GBP</td>\n",
       "      <td>2015-10-09</td>\n",
       "      <td>1000.0</td>\n",
       "      <td>2015-08-11 12:12:28</td>\n",
       "      <td>0.0</td>\n",
       "      <td>failed</td>\n",
       "      <td>0</td>\n",
       "      <td>GB</td>\n",
       "      <td>0.0</td>\n",
       "      <td>0.0</td>\n",
       "      <td>1533.95</td>\n",
       "    </tr>\n",
       "    <tr>\n",
       "      <th>1</th>\n",
       "      <td>1000003930</td>\n",
       "      <td>Greeting From Earth: ZGAC Arts Capsule For ET</td>\n",
       "      <td>Narrative Film</td>\n",
       "      <td>Film &amp; Video</td>\n",
       "      <td>USD</td>\n",
       "      <td>2017-11-01</td>\n",
       "      <td>30000.0</td>\n",
       "      <td>2017-09-02 04:43:57</td>\n",
       "      <td>2421.0</td>\n",
       "      <td>failed</td>\n",
       "      <td>15</td>\n",
       "      <td>US</td>\n",
       "      <td>100.0</td>\n",
       "      <td>2421.0</td>\n",
       "      <td>30000.00</td>\n",
       "    </tr>\n",
       "    <tr>\n",
       "      <th>2</th>\n",
       "      <td>1000004038</td>\n",
       "      <td>Where is Hank?</td>\n",
       "      <td>Narrative Film</td>\n",
       "      <td>Film &amp; Video</td>\n",
       "      <td>USD</td>\n",
       "      <td>2013-02-26</td>\n",
       "      <td>45000.0</td>\n",
       "      <td>2013-01-12 00:20:50</td>\n",
       "      <td>220.0</td>\n",
       "      <td>failed</td>\n",
       "      <td>3</td>\n",
       "      <td>US</td>\n",
       "      <td>220.0</td>\n",
       "      <td>220.0</td>\n",
       "      <td>45000.00</td>\n",
       "    </tr>\n",
       "    <tr>\n",
       "      <th>3</th>\n",
       "      <td>1000007540</td>\n",
       "      <td>ToshiCapital Rekordz Needs Help to Complete Album</td>\n",
       "      <td>Music</td>\n",
       "      <td>Music</td>\n",
       "      <td>USD</td>\n",
       "      <td>2012-04-16</td>\n",
       "      <td>5000.0</td>\n",
       "      <td>2012-03-17 03:24:11</td>\n",
       "      <td>1.0</td>\n",
       "      <td>failed</td>\n",
       "      <td>1</td>\n",
       "      <td>US</td>\n",
       "      <td>1.0</td>\n",
       "      <td>1.0</td>\n",
       "      <td>5000.00</td>\n",
       "    </tr>\n",
       "    <tr>\n",
       "      <th>4</th>\n",
       "      <td>1000011046</td>\n",
       "      <td>Community Film Project: The Art of Neighborhoo...</td>\n",
       "      <td>Film &amp; Video</td>\n",
       "      <td>Film &amp; Video</td>\n",
       "      <td>USD</td>\n",
       "      <td>2015-08-29</td>\n",
       "      <td>19500.0</td>\n",
       "      <td>2015-07-04 08:35:03</td>\n",
       "      <td>1283.0</td>\n",
       "      <td>canceled</td>\n",
       "      <td>14</td>\n",
       "      <td>US</td>\n",
       "      <td>1283.0</td>\n",
       "      <td>1283.0</td>\n",
       "      <td>19500.00</td>\n",
       "    </tr>\n",
       "  </tbody>\n",
       "</table>\n",
       "</div>"
      ],
      "text/plain": [
       "           ID                                               name  \\\n",
       "0  1000002330                    The Songs of Adelaide & Abullah   \n",
       "1  1000003930      Greeting From Earth: ZGAC Arts Capsule For ET   \n",
       "2  1000004038                                     Where is Hank?   \n",
       "3  1000007540  ToshiCapital Rekordz Needs Help to Complete Album   \n",
       "4  1000011046  Community Film Project: The Art of Neighborhoo...   \n",
       "\n",
       "         category main_category currency    deadline     goal  \\\n",
       "0          Poetry    Publishing      GBP  2015-10-09   1000.0   \n",
       "1  Narrative Film  Film & Video      USD  2017-11-01  30000.0   \n",
       "2  Narrative Film  Film & Video      USD  2013-02-26  45000.0   \n",
       "3           Music         Music      USD  2012-04-16   5000.0   \n",
       "4    Film & Video  Film & Video      USD  2015-08-29  19500.0   \n",
       "\n",
       "              launched  pledged     state  backers country  usd pledged  \\\n",
       "0  2015-08-11 12:12:28      0.0    failed        0      GB          0.0   \n",
       "1  2017-09-02 04:43:57   2421.0    failed       15      US        100.0   \n",
       "2  2013-01-12 00:20:50    220.0    failed        3      US        220.0   \n",
       "3  2012-03-17 03:24:11      1.0    failed        1      US          1.0   \n",
       "4  2015-07-04 08:35:03   1283.0  canceled       14      US       1283.0   \n",
       "\n",
       "   usd_pledged_real  usd_goal_real  \n",
       "0               0.0        1533.95  \n",
       "1            2421.0       30000.00  \n",
       "2             220.0       45000.00  \n",
       "3               1.0        5000.00  \n",
       "4            1283.0       19500.00  "
      ]
     },
     "execution_count": 98,
     "metadata": {},
     "output_type": "execute_result"
    }
   ],
   "source": [
    "prj2018.head()"
   ]
  },
  {
   "cell_type": "code",
   "execution_count": 99,
   "metadata": {},
   "outputs": [
    {
     "data": {
      "text/plain": [
       "0            0.0\n",
       "1          100.0\n",
       "2          220.0\n",
       "3            1.0\n",
       "4         1283.0\n",
       "           ...  \n",
       "378656      25.0\n",
       "378657     155.0\n",
       "378658      20.0\n",
       "378659     200.0\n",
       "378660     524.0\n",
       "Name: usd pledged, Length: 378661, dtype: float64"
      ]
     },
     "execution_count": 99,
     "metadata": {},
     "output_type": "execute_result"
    }
   ],
   "source": [
    "prj2018.pop('name')\n",
    "prj2018.pop('ID')\n",
    "prj2018.pop('usd pledged')"
   ]
  },
  {
   "cell_type": "code",
   "execution_count": 100,
   "metadata": {},
   "outputs": [
    {
     "name": "stdout",
     "output_type": "stream",
     "text": [
      "Unique values in `state` column: ['failed', 'canceled', 'successful', 'live', 'undefined', 'suspended']\n"
     ]
    }
   ],
   "source": [
    "print('Unique values in `state` column:', list(prj2018.state.unique()))"
   ]
  },
  {
   "cell_type": "code",
   "execution_count": 101,
   "metadata": {},
   "outputs": [
    {
     "name": "stdout",
     "output_type": "stream",
     "text": [
      "Poetry\n"
     ]
    }
   ],
   "source": [
    "prj2018.head()\n",
    "prj2018.shape\n",
    "print(prj2018.iloc[0,0])"
   ]
  },
  {
   "cell_type": "code",
   "execution_count": 102,
   "metadata": {},
   "outputs": [
    {
     "data": {
      "text/plain": [
       "0    2015-10-09\n",
       "1    2017-11-01\n",
       "2    2013-02-26\n",
       "3    2012-04-16\n",
       "4    2015-08-29\n",
       "Name: deadline, dtype: object"
      ]
     },
     "execution_count": 102,
     "metadata": {},
     "output_type": "execute_result"
    }
   ],
   "source": [
    "deadlines = prj2018.pop('deadline')\n",
    "launches = prj2018.pop('launched')\n",
    "deadlines.head()"
   ]
  },
  {
   "cell_type": "code",
   "execution_count": 103,
   "metadata": {},
   "outputs": [
    {
     "data": {
      "text/html": [
       "<div>\n",
       "<style scoped>\n",
       "    .dataframe tbody tr th:only-of-type {\n",
       "        vertical-align: middle;\n",
       "    }\n",
       "\n",
       "    .dataframe tbody tr th {\n",
       "        vertical-align: top;\n",
       "    }\n",
       "\n",
       "    .dataframe thead th {\n",
       "        text-align: right;\n",
       "    }\n",
       "</style>\n",
       "<table border=\"1\" class=\"dataframe\">\n",
       "  <thead>\n",
       "    <tr style=\"text-align: right;\">\n",
       "      <th></th>\n",
       "      <th>time</th>\n",
       "    </tr>\n",
       "  </thead>\n",
       "  <tbody>\n",
       "    <tr>\n",
       "      <th>0</th>\n",
       "      <td>58.0</td>\n",
       "    </tr>\n",
       "    <tr>\n",
       "      <th>1</th>\n",
       "      <td>59.0</td>\n",
       "    </tr>\n",
       "    <tr>\n",
       "      <th>2</th>\n",
       "      <td>44.0</td>\n",
       "    </tr>\n",
       "    <tr>\n",
       "      <th>3</th>\n",
       "      <td>29.0</td>\n",
       "    </tr>\n",
       "    <tr>\n",
       "      <th>4</th>\n",
       "      <td>55.0</td>\n",
       "    </tr>\n",
       "  </tbody>\n",
       "</table>\n",
       "</div>"
      ],
      "text/plain": [
       "   time\n",
       "0  58.0\n",
       "1  59.0\n",
       "2  44.0\n",
       "3  29.0\n",
       "4  55.0"
      ]
     },
     "execution_count": 103,
     "metadata": {},
     "output_type": "execute_result"
    }
   ],
   "source": [
    "count = 0\n",
    "new_data = pd.DataFrame({'time':int()},index = deadlines.index, columns = ['time'],dtype=int) \n",
    "for x in deadlines:\n",
    "    temp_str_1 = str(deadlines.iloc[count])\n",
    "    temp_str_2 = str(launches.iloc[count])\n",
    "    \n",
    "    temp_int_1_y = int(temp_str_1[0:4])\n",
    "    temp_int_2_y = int(temp_str_2[0:4])\n",
    "    temp_int_1_m = int(temp_str_1[5:7])\n",
    "    temp_int_2_m = int(temp_str_2[5:7])\n",
    "    temp_int_1_d = int(temp_str_1[8:])\n",
    "    temp_int_2_d = int(temp_str_2[8:10])\n",
    "    \n",
    "    temp_int = (temp_int_1_y - temp_int_2_y)*365 + (temp_int_1_m - temp_int_2_m)*30 + (temp_int_1_d - temp_int_2_d) + 1.0 - 1.0\n",
    "    #new_data.loc[count] = np.float64(temp_int)\n",
    "    new_data.loc[count] = temp_int\n",
    "    count += 1\n",
    "new_data.head()"
   ]
  },
  {
   "cell_type": "code",
   "execution_count": 104,
   "metadata": {},
   "outputs": [
    {
     "data": {
      "text/plain": [
       "time    float64\n",
       "dtype: object"
      ]
     },
     "execution_count": 104,
     "metadata": {},
     "output_type": "execute_result"
    }
   ],
   "source": [
    "#new_data = new_data.astype(str).astype(int)\n",
    "new_data.dtypes"
   ]
  },
  {
   "cell_type": "code",
   "execution_count": 105,
   "metadata": {},
   "outputs": [],
   "source": [
    "prj2018 = prj2018.join(new_data)\n",
    "#prj2018 = prj2018.rename(columns={'deadline': 'time'})"
   ]
  },
  {
   "cell_type": "code",
   "execution_count": 106,
   "metadata": {},
   "outputs": [],
   "source": [
    "prj2018 = prj2018.query('state != \"live\"')\n",
    "#prj2018 = prj2018.assign(outcome=(prj2018['state'] == 'successful').astype(int))"
   ]
  },
  {
   "cell_type": "code",
   "execution_count": 107,
   "metadata": {},
   "outputs": [],
   "source": [
    "states = pd.DataFrame({'state':int()},index = prj2018.index, columns = ['state'],dtype=int)\n",
    "states.loc[prj2018['state'] == \"successful\", 'state'] = 1\n",
    "states.loc[prj2018['state'] != \"successful\", 'state'] = 0"
   ]
  },
  {
   "cell_type": "code",
   "execution_count": 108,
   "metadata": {},
   "outputs": [],
   "source": [
    "prj2018.pop('state')\n",
    "prj2018 = prj2018.join(states)"
   ]
  },
  {
   "cell_type": "code",
   "execution_count": 109,
   "metadata": {},
   "outputs": [
    {
     "data": {
      "text/plain": [
       "category             object\n",
       "main_category        object\n",
       "currency             object\n",
       "goal                float64\n",
       "pledged             float64\n",
       "backers               int64\n",
       "country              object\n",
       "usd_pledged_real    float64\n",
       "usd_goal_real       float64\n",
       "time                float64\n",
       "state                 int32\n",
       "dtype: object"
      ]
     },
     "execution_count": 109,
     "metadata": {},
     "output_type": "execute_result"
    }
   ],
   "source": [
    "prj2018.dtypes"
   ]
  },
  {
   "cell_type": "code",
   "execution_count": 110,
   "metadata": {},
   "outputs": [
    {
     "name": "stdout",
     "output_type": "stream",
     "text": [
      "Unique values in `state` column: [0, 1]\n"
     ]
    }
   ],
   "source": [
    "#prj2018.dtypes\n",
    "print('Unique values in `state` column:', list(prj2018.state.unique()))"
   ]
  },
  {
   "cell_type": "code",
   "execution_count": 111,
   "metadata": {},
   "outputs": [],
   "source": [
    "x_prj2018_trn = prj2018.iloc[:340795,:]\n",
    "x_prj2018_eval = prj2018.iloc[340795:,:]"
   ]
  },
  {
   "cell_type": "code",
   "execution_count": 112,
   "metadata": {},
   "outputs": [],
   "source": [
    "y_prj2018_trn = x_prj2018_trn.pop('state')\n",
    "y_prj2018_eval = x_prj2018_eval.pop('state')"
   ]
  },
  {
   "cell_type": "code",
   "execution_count": 113,
   "metadata": {},
   "outputs": [
    {
     "data": {
      "text/plain": [
       "count    340795.000000\n",
       "mean          0.356678\n",
       "std           0.479019\n",
       "min           0.000000\n",
       "25%           0.000000\n",
       "50%           0.000000\n",
       "75%           1.000000\n",
       "max           1.000000\n",
       "Name: state, dtype: float64"
      ]
     },
     "execution_count": 113,
     "metadata": {},
     "output_type": "execute_result"
    }
   ],
   "source": [
    "y_prj2018_trn.describe()"
   ]
  },
  {
   "cell_type": "code",
   "execution_count": 114,
   "metadata": {},
   "outputs": [
    {
     "data": {
      "text/plain": [
       "<matplotlib.axes._subplots.AxesSubplot at 0x1af3d558f08>"
      ]
     },
     "execution_count": 114,
     "metadata": {},
     "output_type": "execute_result"
    },
    {
     "data": {
      "image/png": "[encoded data removed]",
      "text/plain": [
       "<Figure size 432x288 with 1 Axes>"
      ]
     },
     "metadata": {},
     "output_type": "display_data"
    }
   ],
   "source": [
    "y_prj2018_trn.hist(bins=20)"
   ]
  },
  {
   "cell_type": "code",
   "execution_count": 115,
   "metadata": {},
   "outputs": [
    {
     "data": {
      "text/plain": [
       "category             object\n",
       "main_category        object\n",
       "currency             object\n",
       "goal                float64\n",
       "pledged             float64\n",
       "backers               int64\n",
       "country              object\n",
       "usd_pledged_real    float64\n",
       "usd_goal_real       float64\n",
       "time                float64\n",
       "dtype: object"
      ]
     },
     "execution_count": 115,
     "metadata": {},
     "output_type": "execute_result"
    }
   ],
   "source": [
    "x_prj2018_eval.head()\n",
    "x_prj2018_trn.dtypes"
   ]
  },
  {
   "cell_type": "code",
   "execution_count": 116,
   "metadata": {},
   "outputs": [
    {
     "name": "stdout",
     "output_type": "stream",
     "text": [
      "[VocabularyListCategoricalColumn(key='category', vocabulary_list=('Poetry', 'Narrative Film', 'Music', 'Film & Video', 'Restaurants', 'Food', 'Drinks', 'Product Design', 'Documentary', 'Nonfiction', 'Indie Rock', 'Crafts', 'Games', 'Tabletop Games', 'Design', 'Comic Books', 'Art Books', 'Fashion', 'Childrenswear', 'Theater', 'Comics', 'DIY', 'Webseries', 'Animation', 'Food Trucks', 'Public Art', 'Illustration', 'Photography', 'Pop', 'People', 'Art', 'Family', 'Fiction', 'Accessories', 'Rock', 'Hardware', 'Software', 'Weaving', 'Gadgets', 'Web', 'Jazz', 'Ready-to-wear', 'Festivals', 'Video Games', 'Anthologies', 'Publishing', 'Shorts', 'Electronic Music', 'Radio & Podcasts', 'Apps', 'Cookbooks', 'Apparel', 'Metal', 'Comedy', 'Hip-Hop', 'Periodicals', 'Dance', 'Technology', 'Painting', 'World Music', 'Photobooks', 'Drama', 'Architecture', 'Young Adult', 'Latin', 'Mobile Games', 'Flight', 'Fine Art', 'Action', 'Playing Cards', 'Makerspaces', 'Punk', \"Children's Books\", 'Audio', 'Performance Art', 'Ceramics', 'Vegan', 'Graphic Novels', 'Fabrication Tools', 'Performances', 'Sculpture', 'Sound', 'Stationery', 'Print', \"Farmer's Markets\", 'Thrillers', 'Events', 'Classical Music', 'Graphic Design', 'Spaces', 'Country & Folk', 'Wearables', 'Mixed Media', 'Journalism', 'Movie Theaters', 'Animals', 'Digital Art', 'Knitting', 'Small Batch', 'Installations', 'Community Gardens', 'DIY Electronics', 'Embroidery', 'Camera Equipment', 'Jewelry', 'Farms', 'Conceptual Art', 'Fantasy', 'Webcomics', 'Horror', 'Experimental', 'Science Fiction', 'Puzzles', 'R&B', 'Music Videos', 'Calendars', 'Video', 'Plays', 'Blues', 'Bacon', 'Faith', 'Live Games', 'Woodworking', 'Places', 'Footwear', '3D Printing', 'Academic', 'Zines', 'Musical', 'Workshops', 'Photo', 'Immersive', 'Letterpress', 'Gaming Hardware', 'Candles', 'Television', 'Space Exploration', 'Couture', 'Nature', 'Robots', 'Typography', 'Crochet', 'Translations', 'Textiles', 'Pottery', 'Interactive Design', 'Video Art', 'Quilts', 'Glass', 'Pet Fashion', 'Printing', 'Romance', 'Civic Design', 'Kids', 'Literary Journals', 'Taxidermy', 'Literary Spaces', 'Chiptune', 'Residencies'), dtype=tf.string, default_value=-1, num_oov_buckets=0), VocabularyListCategoricalColumn(key='main_category', vocabulary_list=('Publishing', 'Film & Video', 'Music', 'Food', 'Design', 'Crafts', 'Games', 'Comics', 'Fashion', 'Theater', 'Art', 'Photography', 'Technology', 'Dance', 'Journalism'), dtype=tf.string, default_value=-1, num_oov_buckets=0), VocabularyListCategoricalColumn(key='currency', vocabulary_list=('GBP', 'USD', 'CAD', 'AUD', 'NOK', 'EUR', 'MXN', 'SEK', 'NZD', 'CHF', 'DKK', 'HKD', 'SGD', 'JPY'), dtype=tf.string, default_value=-1, num_oov_buckets=0), VocabularyListCategoricalColumn(key='country', vocabulary_list=('GB', 'US', 'CA', 'AU', 'NO', 'IT', 'DE', 'IE', 'MX', 'ES', 'N,0\"', 'SE', 'FR', 'NL', 'NZ', 'CH', 'AT', 'DK', 'BE', 'HK', 'LU', 'SG', 'JP'), dtype=tf.string, default_value=-1, num_oov_buckets=0), VocabularyListCategoricalColumn(key='backers', vocabulary_list=(0, 15, 3, 1, 14, 224, 16, 40, 58, 43, 100, 761, 11, 20, 7, 624, 12, 66, 147, 571, 27, 840, 549, 18, 30, 92, 54, 157, 213, 2, 277, 34, 232, 25, 181, 855, 154, 218, 4, 632, 71, 51, 121, 5, 448, 8, 2784, 13, 144, 6, 95, 65, 164, 76, 38, 9, 29, 31, 36, 153, 10, 346, 113, 52, 45, 19, 1261, 131, 41, 491, 67, 120, 47, 44, 49, 33, 53, 89, 561, 90, 78, 260, 55, 750, 32, 37, 42, 86, 26, 3784, 81, 46, 140, 327, 3080, 69, 24, 107, 105, 85, 115, 94, 56, 161, 21, 23, 97, 57, 383, 88, 184, 62, 195, 50, 2278, 177, 75, 39, 17, 130, 28, 1127, 35, 102, 172, 5946, 96, 145, 192, 138, 80, 665, 22, 207, 287, 167, 647, 1053, 125, 118, 182, 148, 63, 61, 116, 2789, 149, 133, 106, 244, 160, 152, 191, 1258, 136, 240, 60, 103, 622, 298, 236, 59, 251, 226, 91, 1711, 694, 1822, 264, 141, 942, 426, 135, 545, 1372, 393, 79, 111, 83, 342, 443, 706, 126, 84, 12758, 150, 660, 2412, 637, 48, 156, 188, 242, 369, 74, 1631, 292, 1052, 173, 257, 301, 285, 228, 411, 267, 216, 603, 249, 2108, 70, 463, 516, 1516, 215, 616, 64, 600, 77, 2140, 336, 73, 348, 439, 99, 193, 93, 127, 3527, 530, 2256, 5149, 405, 117, 122, 1180, 296, 775, 502, 290, 189, 139, 547, 854, 261, 183, 82, 108, 245, 68, 209, 1447, 1588, 252, 565, 87, 286, 269, 2485, 8351, 829, 391, 1068, 200, 563, 98, 171, 101, 104, 966, 168, 359, 255, 110, 114, 368, 194, 112, 174, 1502, 212, 326, 206, 315, 205, 274, 310, 384, 505, 1243, 5564, 1023, 621, 235, 1157, 233, 529, 581, 1722, 558, 263, 311, 165, 371, 272, 5620, 401, 414, 202, 504, 1379, 231, 1071, 151, 128, 376, 271, 719, 687, 199, 1198, 695, 18550, 609, 119, 458, 1366, 1606, 1511, 166, 291, 179, 544, 1794, 878, 338, 273, 143, 330, 210, 509, 1987, 678, 437, 123, 280, 586, 404, 109, 606, 170, 412, 155, 490, 2389, 316, 137, 289, 507, 204, 134, 800, 208, 203, 361, 262, 11610, 197, 791, 158, 560, 1297, 190, 234, 3297, 480, 124, 221, 901, 256, 237, 668, 457, 620, 425, 931, 539, 227, 618, 254, 658, 201, 421, 186, 259, 395, 1468, 389, 132, 450, 276, 1526, 185, 72, 1967, 444, 198, 351, 1094, 848, 2255, 469, 4726, 494, 503, 427, 1384, 382, 4091, 2224, 2282, 300, 1093, 663, 430, 308, 691, 163, 1558, 217, 846, 598, 447, 810, 669, 337, 26457, 1768, 142, 873, 358, 1537, 1193, 1129, 945, 360, 334, 180, 396, 732, 196, 436, 162, 187, 2477, 1277, 344, 654, 1107, 550, 611, 248, 1069, 907, 769, 223, 951, 1483, 1739, 214, 874, 988, 693, 324, 415, 222, 2453, 795, 1945, 814, 303, 626, 374, 441, 243, 610, 607, 890, 129, 36863, 266, 281, 888, 553, 739, 452, 1858, 354, 1089, 883, 1860, 283, 250, 390, 511, 399, 1011, 175, 1499, 863, 699, 2654, 499, 239, 355, 408, 476, 4420, 265, 146, 3067, 220, 453, 596, 3317, 304, 328, 332, 284, 493, 591, 312, 1337, 4730, 749, 708, 305, 2044, 679, 333, 957, 718, 2089, 159, 2116, 3792, 540, 9522, 380, 440, 1203, 1362, 454, 807, 534, 780, 1195, 948, 808, 851, 362, 3397, 865, 169, 178, 2148, 238, 713, 294, 3037, 819, 479, 1467, 229, 241, 492, 631, 339, 852, 790, 895, 317, 643, 667, 1620, 1670, 773, 1667, 2213, 418, 513, 407, 63416, 1869, 1349, 5051, 1806, 939, 398, 253, 365, 5194, 1031, 585, 1870, 593, 352, 1077, 314, 2395, 2561, 2322, 528, 3215, 1246, 321, 546, 2011, 911, 484, 1430, 279, 481, 483, 297, 881, 662, 1416, 1304, 1535, 375, 445, 366, 886, 520, 4062, 258, 641, 650, 1042, 4357, 5142, 3057, 1280, 512, 9086, 1249, 1696, 459, 730, 999, 582, 1929, 683, 604, 1106, 614, 394, 1003, 474, 3414, 1154, 211, 3187, 601, 608, 740, 385, 4955, 293, 1065, 629, 617, 628, 364, 416, 717, 20915, 230, 1113, 3301, 645, 438, 514, 319, 341, 1015, 2045, 2000, 1119, 3239, 10103, 1045, 536, 282, 570, 357, 373, 275, 465, 299, 1685, 3591, 422, 779, 896, 2272, 1402, 246, 428, 1506, 1773, 28818, 2733, 576, 2270, 932, 1030, 666, 590, 345, 2009, 821, 1733, 519, 1378, 313, 1210, 3964, 306, 568, 635, 736, 1321, 176, 370, 776, 1325, 797, 2324, 309, 386, 1357, 363, 5085, 891, 982, 464, 5645, 594, 3022, 295, 377, 879, 1374, 605, 1029, 5555, 1636, 703, 431, 3594, 1816, 1457, 1187, 2463, 2719, 575, 876, 1564, 524, 5910, 2177, 2464, 781, 1339, 400, 1601, 525, 1762, 340, 1022, 639, 477, 681, 473, 1420, 880, 501, 962, 387, 842, 579, 2102, 419, 219, 367, 818, 892, 4616, 508, 597, 918, 325, 498, 446, 860, 961, 1016, 268, 1583, 488, 1151, 1446, 1134, 707, 2566, 1885, 1431, 5794, 1770, 5731, 413, 487, 1267, 572, 424, 4574, 1752, 1772, 1809, 1905, 916, 496, 349, 435, 556, 788, 461, 1531, 538, 1013, 4900, 728, 1399, 320, 7798, 867, 1621, 1691, 562, 278, 1514, 5909, 531, 1032, 4788, 850, 627, 318, 1736, 2348, 1137, 861, 3028, 2416, 406, 1879, 1429, 392, 1934, 247, 914, 1318, 467, 587, 743, 9624, 378, 1263, 726, 482, 307, 64867, 569, 1269, 2294, 1131, 7564, 1290, 1574, 322, 1166, 517, 442, 559, 486, 2139, 898, 589, 323, 2118, 2185, 973, 6508, 1398, 2768, 1310, 372, 335, 1481, 746, 642, 1100, 331, 1190, 3039, 1492, 685, 1996, 734, 998, 809, 971, 1927, 1616, 554, 10508, 1138, 535, 2883, 735, 353, 451, 270, 329, 977, 225, 872, 532, 397, 11858, 633, 4079, 3144, 434, 9035, 652, 673, 828, 2226, 804, 742, 475, 1082, 1930, 677, 506, 843, 1188, 1128, 4434, 674, 1005, 381, 1149, 3864, 4953, 3463, 723, 3494, 625, 4839, 859, 1738, 410, 967, 1713, 3378, 497, 1510, 5030, 555, 583, 3724, 919, 947, 3526, 577, 1215, 1174, 403, 433, 783, 983, 5999, 356, 1108, 2183, 1731, 288, 13635, 1549, 2250, 820, 784, 485, 11124, 3475, 638, 1522, 655, 1061, 630, 805, 858, 1914, 845, 1296, 1669, 1697, 1911, 2516, 2918, 1351, 1250, 350, 1091, 1002, 995, 567, 649, 4533, 1153, 816, 1761, 787, 3316, 500, 1182, 832, 379, 1165, 522, 1140, 1609, 1247, 1608, 470, 402, 2854, 2156, 1451, 5227, 564, 1490, 3293, 2146, 824, 2792, 4844, 456, 1577, 1207, 2489, 771, 1096, 1370, 2082, 578, 940, 613, 959, 894, 758, 2062, 777, 1678, 2927, 1486, 343, 6175, 85581, 1273, 2747, 4833, 2125, 1281, 302, 979, 1877, 14749, 920, 460, 2710, 2738, 741, 7521, 1176, 533, 822, 3008, 1924, 1623, 1327, 714, 1580, 1194, 751, 1217, 884, 527, 1199, 1167, 3719, 537, 1605, 997, 1139, 4597, 727, 802, 864, 680, 1353, 1779, 10964, 3404, 543, 1158, 1201, 2190, 1121, 3047, 756, 409, 1098, 2311, 1319, 1251, 566, 980, 4194, 676, 697, 827, 753, 1130, 1044, 834, 1391, 592, 548, 2022, 4608, 5338, 893, 468, 551, 935, 1836, 1141, 1545, 1701, 6420, 1063, 347, 4395, 3244, 2729, 1880, 1688, 1214, 705, 573, 1099, 710, 471, 733, 887, 1587, 2618, 1168, 1133, 2002, 1450, 1642, 1674, 2406, 1594, 5514, 792, 3871, 2974, 1054, 856, 1395, 1400, 1652, 738, 1897, 1041, 432, 4968, 721, 526, 2475, 5279, 1718, 1156, 420, 521, 5955, 1027, 1073, 580, 557, 3480, 974, 1287, 6581, 1040, 4218, 2425, 1393, 1838, 1756, 3296, 2836, 1508, 1163, 760, 1568, 1067, 11141, 1007, 1906, 5250, 774, 18220, 2065, 1004, 6093, 2427, 644, 417, 2129, 1932, 960, 22322, 2350, 2402, 4611, 595, 1495, 1262, 510, 1238, 4198, 1968, 4893, 1570, 963, 1894, 990, 9818, 3431, 2288, 1148, 4245, 429, 1730, 648, 1058, 686, 1401, 2718, 2573, 3199, 1437, 1569, 653, 806, 964, 1441, 908, 704, 690, 489, 8260, 2334, 1301, 764, 1260, 657, 811, 4851, 6553, 1021, 1843, 3625, 1028, 1700, 868, 1972, 701, 1543, 2662, 2655, 7245, 4458, 1681, 1241, 3266, 1039, 1240, 2959, 2274, 4073, 2254, 4368, 478, 847, 1984, 1231, 1102, 794, 1603, 715, 2783, 1394, 836, 1118, 1980, 2328, 956, 925, 2191, 672, 1690, 1024, 6963, 1635, 2949, 1358, 3251, 574, 615, 6535, 1095, 7665, 2128, 388, 720, 1222, 623, 495, 7231, 1185, 731, 634, 871, 1075, 2287, 1088, 455, 722, 5751, 954, 11406, 523, 1553, 2647, 987, 696, 1008, 8732, 1517, 3277, 2482, 1271, 1117, 1050, 9226, 2525, 700, 3531, 1828, 73206, 2409, 2625, 2641, 13465, 1010, 1977, 449, 5052, 675, 2995, 11334, 3320, 8979, 825, 838, 552, 664, 930, 1622, 1612, 661, 1055, 1090, 1784, 518, 1452, 709, 1408, 1000, 11693, 1081, 1536, 1245, 612, 3062, 1104, 1335, 1173, 1890, 4495, 1356, 6052, 1489, 1745, 929, 5157, 6893, 11739, 2321, 4372, 3118, 3873, 1017, 1103, 1208, 1748, 3562, 689, 744, 910, 1415, 2505, 2603, 7730, 798, 3869, 8900, 3000, 682, 1999, 4451, 958, 2124, 1668, 755, 1684, 1248, 1659, 3508, 2897, 1270, 2343, 782, 2802, 1939, 8635, 716, 1660, 1507, 5110, 9477, 1087, 1220, 1683, 2109, 4459, 1541, 3769, 1509, 8907, 4129, 3102, 1212, 2121, 944, 1285, 1085, 4327, 3125, 1680, 2901, 619, 2358, 4201, 3958, 1876, 4551, 423, 2748, 837, 1239, 3355, 2864, 2685, 1373, 793, 1912, 9236, 588, 1472, 1344, 1786, 1018, 1066, 2556, 2642, 1423, 2283, 4013, 2720, 1160, 5953, 3863, 19541, 1808, 602, 1974, 1867, 2043, 10263, 1619, 1727, 18184, 889, 1146, 1159, 2765, 1640, 1064, 897, 2906, 1336, 4948, 725, 5923, 1367, 711, 853, 2038, 1902, 7565, 903, 1873, 1309, 2466, 1795, 7890, 7450, 862, 1704, 1798, 1498, 1200, 2193, 466, 906, 1767, 1774, 646, 937, 1485, 2857, 4095, 1448, 5405, 599, 4045, 1132, 1421, 772, 7297, 9095, 1348, 1057, 1947, 1406, 1295, 1387, 2847, 1611, 656, 5834, 2462, 11855, 9566, 12840, 5636, 1638, 12439, 472, 2621, 1655, 4258, 1663, 11611, 992, 671, 2326, 823, 1048, 4375, 849, 636, 3519, 1161, 1051, 745, 14964, 11626, 1419, 1981, 1253, 2136, 1186, 955, 2279, 1226, 1552, 870, 2892, 1878, 763, 3399, 4723, 1078, 1751, 684, 759, 6304, 2050, 1035, 2310, 1123, 4693, 3831, 1221, 1047, 1012, 1527, 3167, 7119, 1462, 1556, 2514, 651, 1771, 1034, 2881, 2960, 1175, 1602, 515, 7606, 1009, 1862, 659, 1143, 1950, 1252, 729, 7139, 757, 1427, 1084, 11281, 952, 5342, 3238, 2085, 1124, 1811, 2517, 4060, 462, 1218, 1286, 1343, 670, 1396, 4380, 702, 1392, 3130, 4516, 2378, 1049, 2201, 2238, 5229, 13647, 7583, 796, 3459, 13876, 2033, 1533, 2912, 6171, 936, 3658, 14333, 1382, 813, 2208, 1847, 2016, 5538, 1376, 1409, 3063, 3281, 2244, 14112, 1291, 778, 3113, 6997, 21625, 2542, 2155, 875, 1179, 1197, 844, 2300, 1439, 21975, 1829, 1710, 3551, 3901, 4636, 3009, 2336, 4371, 2424, 1237, 1963, 1581, 5711, 2059, 1390, 3071, 1800, 2496, 1369, 4865, 10573, 22361, 765, 900, 1627, 2560, 923, 2052, 3448, 801, 6954, 917, 3227, 1313, 698, 1841, 1432, 972, 762, 989, 1512, 33720, 6626, 1992, 3468, 4048, 1033, 2523, 3379, 1471, 2263, 2456, 7364, 2363, 882, 3038, 1915, 2950, 2470, 978, 2154, 2858, 1473, 2549, 1882, 3325, 1921, 1305, 15129, 1109, 1976, 1573, 2181, 885, 1646, 1591, 1189, 2407, 1946, 10247, 3823, 981, 2622, 1966, 1225, 1079, 1019, 17184, 3991, 1551, 6969, 969, 8798, 2137, 3938, 3597, 2319, 16537, 5661, 2293, 584, 1152, 1227, 5631, 2414, 2221, 9377, 7112, 965, 831, 928, 799, 4746, 2262, 1111, 1910, 1234, 2330, 1454, 3630, 1046, 1181, 1625, 2691, 1917, 1935, 1868, 3156, 912, 2063, 1884, 1244, 1037, 3966, 2112, 1455, 7523, 4829, 2165, 1354, 640, 3785, 1341, 1958, 1729, 785, 6688, 3632, 2243, 1178, 770, 1164, 2994, 10136, 1835, 3108, 1962, 1442, 1825, 4689, 1575, 2837, 994, 1317, 6784, 938, 4553, 2180, 866, 2872, 154926, 6480, 4484, 3801, 2431, 3975, 1913, 1172, 839, 2048, 1645, 3116, 2032, 1126, 3523, 1383, 975, 4080, 9455, 6808, 4427, 993, 1872, 1236, 1170, 2871, 986, 2952, 3349, 7857, 3759, 4386, 2174, 2056, 1375, 2068, 1105, 1957, 833, 748, 3391, 2705, 1666, 1528, 1364, 2391, 11749, 1308, 934, 3566, 4603, 2354, 1435, 3674, 1959, 1525, 1025, 4417, 5177, 12011, 1703, 26832, 8177, 1951, 542, 2087, 4074, 6414, 2371, 996, 2452, 1219, 2739, 3536, 2297, 1388, 1453, 6879, 1235, 12457, 3696, 18126, 688, 1624, 1038, 1515, 1725, 1562, 2104, 4162, 3298, 1561, 1820, 904, 8359, 6158, 803, 5881, 8086, 1763, 2031, 18209, 1444, 4482, 4010, 7781, 786, 4849, 1497, 6729, 1300, 1211, 1664, 2404, 2551, 2379, 3797, 2788, 1909, 1687, 4155, 1449, 9805, 1513, 8340, 14884, 1213, 3306, 2545, 12277, 3761, 1229, 1769, 826, 921, 1404, 1306, 1618, 768, 14160, 4905, 2212, 1565, 899, 1540, 1819, 1326, 1478, 2338, 2730, 1114, 1283, 2219, 789, 48270, 1728, 541, 1314, 11867, 1938, 30546, 970, 1122, 2142, 2684, 5508, 1954, 976, 4506, 10165, 1242, 2034, 1676, 767, 6149, 4124, 747, 1268, 4634, 1864, 1750, 4491, 2948, 16459, 1001, 3702, 1693, 1699, 1796, 1196, 1665, 1312, 1994, 6652, 3623, 6447, 4099, 2754, 2428, 1585, 3771, 6178, 1062, 830, 2131, 13539, 933, 909, 1617, 1080, 3715, 1329, 1534, 2610, 2804, 1893, 4796, 1386, 5602, 3698, 1334, 1805, 1563, 1371, 1352, 4121, 1347, 1792, 63758, 817, 2235, 1871, 1567, 1480, 1626, 5685, 3307, 6931, 2572, 4141, 1465, 8115, 1780, 2188, 2779, 1677, 1749, 5964, 3737, 1405, 1417, 3141, 1276, 1205, 2141, 1961, 4151, 1649, 2725, 1171, 1778, 2726, 8909, 8530, 1896, 4764, 2159, 6705, 2954, 2698, 5220, 815, 3184, 3096, 6683, 2586, 3778, 2210, 3764, 2295, 3348, 2742, 3339, 23331, 9869, 3090, 9498, 841, 3426, 1566, 5022, 1705, 2236, 1571, 1832, 2478, 3779, 4362, 4118, 1259, 1440, 2812, 1461, 3424, 20787, 968, 10260, 4765, 1256, 1818, 3402, 2207, 1469, 19829, 2281, 1026, 1458, 1960, 1985, 1559, 4301, 4113, 3004, 8807, 1785, 2527, 1293, 2100, 1653, 5420, 39560, 4774, 1759, 1662, 1952, 5179, 4011, 922, 1144, 1476, 1529, 4965, 1316, 1695, 3205, 692, 3546, 3235, 913, 2429, 6421, 4107, 2027, 12196, 2422, 4242, 915, 3044, 1020, 3743, 2178, 4557, 1557, 3950, 1598, 3890, 3627, 712, 1322, 1464, 1560, 9293, 1307, 15623, 2752, 1600, 877, 1183, 4472, 3061, 5754, 1672, 1501, 754, 2099, 2619, 8928, 4640, 5812, 2480, 1714, 766, 1204, 5783, 4903, 1607, 2134, 3042, 3143, 4850, 2396, 17733, 10354, 2049, 7734, 6718, 2176, 2648, 1848, 8448, 1360, 1136, 3650, 6566, 9417, 2491, 5312, 4238, 1633, 1072, 6466, 6937, 7385, 3611, 4625, 1901, 2509, 2617, 2149, 5061, 1266, 3078, 11660, 3052, 950, 3710, 3663, 2241, 1857, 3083, 3095, 1202, 3997, 2833, 1686, 4253, 724, 3745, 1747, 1484, 1425, 1737, 2265, 13987, 2067, 1628, 1523, 1257, 1233, 1466, 5331, 2398, 5106, 4418, 3615, 1345, 3366, 1120, 1844, 1940, 11360, 3230, 3867, 1228, 737, 1661, 926, 5280, 1403, 2816, 4024, 1184, 1904, 6044, 1842, 6974, 8297, 1289, 1707, 1265, 2383, 1209, 6927, 3514, 2937, 1303, 1191, 9639, 5340, 3157, 31774, 835, 927, 2315, 1424, 1254, 5657, 2012, 2035, 1264, 5600, 6033, 1216, 1355, 6148, 1503, 6396, 17739, 4348, 4254, 2285, 752, 5258, 6081, 4169, 1547, 1933, 3190, 10666, 3213, 23626, 8200, 1274, 3342, 1694, 5875, 953, 2349, 1361, 2071, 9067, 3706, 3783, 1576, 2636, 1753, 7372, 2981, 1125, 2650, 1074, 2327, 9258, 2521, 7966, 12521, 3305, 3833, 2819, 1504, 1407, 2393, 1385, 1892, 1232, 2399, 5078, 1192, 1092, 7374, 1177, 902, 6589, 1544, 1459, 1692, 1931, 40642, 10739, 1311, 14873, 3962, 941, 7495, 5814, 3303, 2852, 4534, 1706, 2076, 3713, 5119, 2490, 2723, 2518, 1368, 2567, 1365, 1463, 2984, 2164, 2345, 4100, 1324, 8944, 1056, 4896, 4015, 1135, 2823, 2172, 3109, 4687, 1712, 4435, 8454, 6167, 5549, 2173, 6072, 3086, 12553, 6100, 1162, 2593, 6362, 5484, 1488, 3858, 1790, 11686, 4590, 1101, 5276, 2620, 9139, 4526, 3142, 2144, 22195, 1758, 1742, 3153, 3491, 3242, 2772, 1294, 2218, 9955, 9326, 6209, 10617, 5616, 2602, 2936, 10357, 1973, 26828, 5753, 1006, 1783, 2753, 1150, 3289, 3642, 1279, 1708, 2101, 4474, 2046, 3756, 1292, 9169, 1764, 1115, 5005, 7902, 943, 1086, 3131, 1831, 1716, 12229, 2225, 3908, 2987, 3046, 6479, 2743, 5076, 1060, 2507, 1853, 1782, 1413, 2813, 2977, 1919, 91585, 3070, 3098, 3951, 1298, 4084, 2598, 4311, 4722, 6460, 1830, 8776, 8548, 5784, 3981, 3436, 9027, 9288, 4054, 1474, 24066, 2829, 3787, 857, 2306, 3410, 2184, 1744, 1284, 3069, 1630, 1411, 1789, 3007, 3525, 1323, 1043, 2450, 2703, 8744, 1788, 1629, 4243, 1936, 3284, 10230, 2231, 1584, 15736, 2434, 15766, 3515, 1110, 1428, 2072, 6828, 4330, 78471, 2441, 2248, 27235, 2609, 20042, 1169, 3270, 2645, 1288, 2126, 1926, 1856, 2122, 6966, 1282, 2081, 6108, 2594, 2479, 2095, 2375, 1542, 2632, 2537, 2734, 2110, 3578, 2168, 1852, 3740, 5791, 1698, 2041, 10590, 3169, 5398, 6203, 2229, 1014, 4136, 1578, 8805, 2865, 2074, 4679, 3389, 2105, 2553, 1997, 1315, 1702, 15824, 1330, 3029, 2107, 5033, 4870, 2284, 7207, 3925, 4226, 16200, 14242, 1350, 1793, 7367, 4686, 1883, 2117, 7496, 3640, 1596, 2003, 5096, 1206, 2269, 1866, 1937, 3107, 1865, 3050, 15998, 3676, 1059, 5050, 6598, 1895, 2564, 4174, 2228, 6611, 2990, 2651, 6219, 3926, 7733, 5771, 34397, 4306, 10992, 6511, 5961, 46520, 12578, 2744, 4058, 1147, 10671, 6654, 1299, 1826, 7876, 2119, 3368, 1755, 5764, 2161, 2413, 3103, 1989, 1548, 2976, 3729, 4509, 3609, 2066, 4585, 1555, 6653, 1470, 7253, 6435, 1410, 11169, 5175, 6248, 3608, 3535, 3518, 2539, 1679, 2175, 1675, 1881, 10569, 1595, 1639, 1487, 2500, 1112, 905, 1757, 3091, 3066, 5189, 5434, 2316, 2627, 1888, 1377, 4185, 2630, 1735, 10809, 6971, 2844, 4885, 3919, 1641, 1918, 6916, 4541, 2838, 35549, 6210, 9550, 2587, 34565, 2775, 8090, 2051, 3913, 5694, 2268, 2356, 1613, 6588, 12709, 8433, 2520, 3918, 21412, 21808, 87142, 5290, 7198, 1230, 3900, 14952, 2559, 3255, 1500, 2629, 12218, 946, 2135, 3933, 1275, 5147, 2777, 2021, 4818, 1720, 12557, 6768, 2963, 1036, 2123, 4001, 14579, 4133, 2588, 13699, 1546, 3136, 7784, 1859, 1224, 5287, 2440, 3214, 1658, 2249, 13512, 5714, 219382, 5803, 7293, 44162, 3503, 4975, 8164, 4477, 9895, 6968, 4034, 17614, 1903, 1097, 3607, 2817, 869, 3891, 4349, 3790, 4586, 7514, 2001, 2331, 2449, 1338, 4232, 9991, 1445, 2904, 2596, 2853, 1754, 2004, 1550, 1610, 1076, 1302, 1422, 4974, 7131, 2571, 2633, 9122, 1813, 4918, 3288, 3768, 17152, 61290, 2750, 15251, 6192, 4396, 1331, 4085, 3732, 2367, 2695, 5551, 4251, 6237, 2417, 3258, 2023, 3249, 1908, 10090, 3152, 3308, 1346, 5008, 15029, 1436, 3605, 9825, 4236, 5288, 7362, 1070, 1363, 3384, 1916, 1590, 3565, 2708, 1397, 1340, 4904, 13538, 2605, 1380, 4567, 1554, 25412, 7158, 4927, 1589, 812, 4570, 2896, 5063, 3282, 2955, 9040, 2260, 3290, 5360, 1443, 1648, 5129, 3025, 2683, 2756, 3313, 8457, 2337, 3140, 1920, 1597, 1854, 2467, 4649, 3015, 2083, 2533, 1328, 16019, 1644, 10613, 7420, 4097, 1991, 2025, 1887, 10254, 5932, 3390, 1155, 1426, 1656, 3540, 1614, 4271, 10096, 2106, 2073, 3528, 1599, 1802, 3874, 3544, 2942, 6676, 4300, 14081, 6989, 1886, 70122, 18351, 12103, 1978, 2664, 1673, 5346, 2461, 3405, 7058, 2346, 8110, 2495, 2810, 7932, 66673, 1320, 2171, 2374, 2526, 3554, 2064, 6935, 6003, 3456, 3312, 7221, 1359, 2914, 5519, 5284, 8330, 6891, 2711, 1434, 8452, 2446, 1083, 10752, 5906, 18604, 2503, 2697, 2257, 20242, 5428, 3637, 1889, 985, 2216, 11349, 3023, 4039, 1804, 5695, 4146, 7978, 2405, 7892, 10293, 2055, 4550, 6146, 1740, 1650, 2299, 8775, 2735, 4007, 4272, 3423, 1530, 7167, 4352, 2941, 4033, 1746, 2366, 9023, 2006, 1479, 5622, 4337, 2030, 3827, 2392, 3780, 5827, 7511, 2487, 4614, 2714, 15802, 2763, 949, 5102, 2569, 5003, 3030, 7747, 7433, 6514, 2902, 2145, 1538, 4022, 4424, 1494, 5307, 7794, 1863, 5887, 12187, 4639, 28274, 5449, 4932, 5305, 2451, 1255, 2275, 1572, 4739, 19349, 2388, 3567, 3969, 1846, 42713, 1521, 5925, 2421, 9055, 1721, 2639, 1995, 1145, 3910, 1948, 3331, 4822, 4298, 74405, 1922, 5836, 1965, 6897, 3444, 6451, 9565, 9551, 3421, 3923, 1970, 3687, 5418, 8629, 1898, 5186, 3652, 1592, 2796, 2824, 2811, 4270, 2245, 4206, 6138, 6440, 2192, 5414, 2442, 11483, 5613, 3990, 4389, 2766, 1717, 5972, 3850, 2408, 3324, 3354, 8016, 4562, 3164, 3915, 9898, 2631, 991, 15475, 2707, 13116, 3359, 1942, 12798, 2989, 3984, 1719, 1332, 3683, 2473, 5475, 2601, 4771, 2323, 2352, 62642, 8019, 4398, 6206, 2078, 2420, 2259, 2486, 2253, 1777, 2291, 3294, 3882, 9707, 10766, 3796, 2957, 1142, 2203, 2582, 3956, 2945, 2127, 7501, 2879, 2075, 3603, 3081, 2958, 2909, 3327, 2667, 2762, 2242, 16538, 9677, 2353, 2264, 3460, 1438, 2211, 4789, 8396, 5329, 3835, 1586, 5396, 1817, 1944, 2741, 2053, 2162, 2646, 6586, 14175, 1814, 2158, 4860, 4131, 2296, 7063, 1791, 2793, 4887, 3906, 2920, 13349, 5236, 3252, 18558, 3232, 8211, 3846, 5302, 11027, 1519, 1389, 12626, 3427, 2060, 2382, 1743, 20632, 22834, 5498, 1812, 3467, 31262, 3927, 2848, 3017, 2519, 2875, 1803, 2552, 4581, 6164, 2096, 2182, 984, 2548, 12354, 3705, 3684, 8556, 2080, 4958, 2017, 7938, 2851, 3476, 2873, 1272, 5746, 2923, 14253, 4130, 4148, 3851, 2774, 16335, 5619, 3137, 2194, 2439, 6531, 3195, 2899, 2355, 26359, 4112, 16850, 3666, 1615, 3056, 3210, 5938, 73986, 4658, 5553, 1851, 21455, 2433, 4421, 9182, 4952, 2113, 5924, 1971, 2384, 3222, 4744, 3815, 2993, 7062, 5522, 13263, 16936, 41733, 4883, 4027, 2364, 2607, 2058, 8394, 3483, 6951, 4400, 13387, 8897, 4278, 5582, 2196, 6564, 3446, 19611, 3064, 4823, 11661, 7459, 4385, 9665, 3731, 5819, 5989, 5410, 20680, 5585, 7885, 16732, 9099, 12075, 2246, 3367, 6090, 4126, 68929, 2709, 1475, 3173, 2019, 6262, 9771, 2233, 2147, 2583, 5012, 7506, 1734, 5530, 3247, 10862, 2787, 1949, 9627, 3722, 3014, 1823, 7232, 4906, 2455, 5799, 6291, 2484, 2365, 2436, 2448, 3579, 5273, 36276, 4978, 2469, 2227, 3035, 5088, 1776, 7472, 6196, 2679, 10665, 4828, 6590, 2798, 1524, 5770, 4462, 19264, 23805, 7257, 2966, 5001, 2839, 3668, 4668, 2943, 1456, 11921, 105857, 2166, 67226, 44949, 3584, 6113, 2840, 2749, 2890, 7505, 3534, 1923, 3441, 2390, 14032, 2115, 2332, 2988, 2502, 36781, 2169, 5200, 2578, 1223, 4296, 3178, 2745, 2423, 21858, 1651, 8015, 4751, 2362, 5055, 12159, 1418, 2318, 6650, 4981, 2312, 3353, 4956, 2712, 4508, 7204, 2776, 1787, 2258, 3034, 31178, 2014, 7305, 35384, 2005, 9100, 3194, 8159, 4023, 4044, 2007, 17218, 10768, 3175, 2492, 1518, 6110, 3026, 5988, 2758, 1634, 1520, 1839, 2186, 2534, 2732, 16077, 4583, 1988, 7766, 10410, 3370, 4441, 3916, 2084, 4256, 3185, 8331, 7924, 1657, 3233, 2868, 3725, 43733, 5820, 1116, 3520, 5963, 4382, 2801, 19251, 10477, 8399, 2037, 3720, 1278, 2215, 8128, 3218, 3505, 6694, 7663, 2628, 4077, 2915, 5126, 6070, 15996, 2769, 3254, 4332, 6297, 2613, 4279, 6213, 1766, 2828, 6539, 8873, 3677, 2991, 3011, 4478, 3434, 7317, 2372, 4212, 2916, 3559, 2795, 3135, 2661, 1433, 3659, 6287, 16408, 4378, 5161, 12705, 27060, 4318, 2728, 3920, 5707, 23999, 3501, 5354, 2615, 7280, 4438, 3631, 4365, 4465, 17765, 14971, 7658, 9987, 4241, 2926, 4976, 10877, 4623, 1928, 3638, 13642, 3653, 2855, 2782, 9830, 4645, 24150, 4632, 1539, 4457, 5101, 1637, 1956, 10838, 6550, 7044, 3147, 2103, 3204, 3612, 6199, 8117, 2522, 3861, 9737, 2454, 8030, 9439, 1579, 3763, 3231, 5131, 1810, 3755, 17744, 3462, 1975, 6118, 3982, 5610, 5323, 2271, 9069, 2898, 9044, 4791, 2217, 4422, 3537, 22844, 19576, 5132, 3221, 33741, 7117, 5425, 5476, 12458, 3707, 2230, 2880, 2086, 3150, 10160, 5984, 13765, 17713, 3746, 4670, 2866, 2187, 3273, 8688, 5423, 3432, 7576, 1899, 9066, 5679, 2209, 7407, 4817, 2026, 1505, 6557), dtype=tf.int64, default_value=-1, num_oov_buckets=0), NumericColumn(key='goal', shape=(1,), default_value=None, dtype=tf.float64, normalizer_fn=None), NumericColumn(key='pledged', shape=(1,), default_value=None, dtype=tf.float64, normalizer_fn=None), NumericColumn(key='usd_pledged_real', shape=(1,), default_value=None, dtype=tf.float64, normalizer_fn=None), NumericColumn(key='usd_goal_real', shape=(1,), default_value=None, dtype=tf.float64, normalizer_fn=None), NumericColumn(key='time', shape=(1,), default_value=None, dtype=tf.float64, normalizer_fn=None)]\n"
     ]
    }
   ],
   "source": [
    "CATEGORICAL_COLUMNS = ['category', 'main_category', 'currency', 'country','backers']\n",
    "NUMERIC_COLUMNS = ['goal', 'pledged','usd_pledged_real','usd_goal_real','time']\n",
    "\n",
    "feature_columns = []\n",
    "for feature_name in CATEGORICAL_COLUMNS:\n",
    "  vocabulary = x_prj2018_trn[feature_name].unique()  # gets a list of all unique values from given feature column\n",
    "  feature_columns.append(tf.feature_column.categorical_column_with_vocabulary_list(feature_name, vocabulary))\n",
    "\n",
    "feature_name forin NUMERIC_COLUMNS:\n",
    "  feature_columns.append(tf.feature_column.numeric_column(feature_name, dtype=tf.float64))\n",
    "\n",
    "print(feature_columns)"
   ]
  },
  {
   "cell_type": "code",
   "execution_count": 117,
   "metadata": {},
   "outputs": [],
   "source": [
    "def make_input_fn(data_df, label_df, num_epochs=10, shuffle=True, batch_size=32):\n",
    "  def input_function():  # inner function, this will be returned\n",
    "    ds = tf.data.Dataset.from_tensor_slices((dict(data_df), label_df))  # create tf.data.Dataset object with data and its label\n",
    "    if shuffle:\n",
    "      ds = ds.shuffle(1000)  # randomize order of data\n",
    "    ds = ds.batch(batch_size).repeat(num_epochs)  # split dataset into batches of 32 and repeat process for number of epochs\n",
    "    return ds  # return a batch of the dataset\n",
    "  return input_function  # return a function object for use\n",
    "\n",
    "train_input_fn = make_input_fn(x_prj2018_trn, y_prj2018_trn)  # here we will call the input_function that was returned to us to get a dataset object we can feed to the model\n",
    "eval_input_fn = make_input_fn(x_prj2018_eval, y_prj2018_eval, num_epochs=4, shuffle=False)"
   ]
  },
  {
   "cell_type": "code",
   "execution_count": 118,
   "metadata": {},
   "outputs": [
    {
     "name": "stdout",
     "output_type": "stream",
     "text": [
      "INFO:tensorflow:Using default config.\n",
      "WARNING:tensorflow:Using temporary folder as model directory: C:\\Users\\KAAN_A~1\\AppData\\Local\\Temp\\tmpzz8mk9yj\n",
      "INFO:tensorflow:Using config: {'_model_dir': 'C:\\\\Users\\\\KAAN_A~1\\\\AppData\\\\Local\\\\Temp\\\\tmpzz8mk9yj', '_tf_random_seed': None, '_save_summary_steps': 100, '_save_checkpoints_steps': None, '_save_checkpoints_secs': 600, '_session_config': allow_soft_placement: true\n",
      "graph_options {\n",
      "  rewrite_options {\n",
      "    meta_optimizer_iterations: ONE\n",
      "  }\n",
      "}\n",
      ", '_keep_checkpoint_max': 5, '_keep_checkpoint_every_n_hours': 10000, '_log_step_count_steps': 100, '_train_distribute': None, '_device_fn': None, '_protocol': None, '_eval_distribute': None, '_experimental_distribute': None, '_experimental_max_worker_delay_secs': None, '_session_creation_timeout_secs': 7200, '_service': None, '_cluster_spec': ClusterSpec({}), '_task_type': 'worker', '_task_id': 0, '_global_id_in_cluster': 0, '_master': '', '_evaluation_master': '', '_is_chief': True, '_num_ps_replicas': 0, '_num_worker_replicas': 1}\n"
     ]
    }
   ],
   "source": [
    "linear_est = tf.estimator.LinearClassifier(feature_columns=feature_columns)"
   ]
  },
  {
   "cell_type": "code",
   "execution_count": 119,
   "metadata": {},
   "outputs": [
    {
     "name": "stdout",
     "output_type": "stream",
     "text": [
      "0.9883081\n"
     ]
    }
   ],
   "source": [
    "linear_est.train(train_input_fn)  # train\n",
    "result = linear_est.evaluate(eval_input_fn)  # get model metrics/stats by testing on tetsing data\n",
    "\n",
    "clear_output()  # clears consoke output\n",
    "print(result['accuracy'])  # the result variable is simply a dict of stats about our model"
   ]
  },
  {
   "cell_type": "code",
   "execution_count": 121,
   "metadata": {},
   "outputs": [
    {
     "name": "stdout",
     "output_type": "stream",
     "text": [
      "INFO:tensorflow:Calling model_fn.\n",
      "WARNING:tensorflow:Layer linear/linear_model is casting an input tensor from dtype float64 to the layer's dtype of float32, which is new behavior in TensorFlow 2.  The layer has dtype float32 because its dtype defaults to floatx.\n",
      "\n",
      "If you intended to run this layer in float32, you can safely ignore this warning. If in doubt, this warning is likely only an issue if you are porting a TensorFlow 1.X model to TensorFlow 2.\n",
      "\n",
      "To change all layers to have dtype float64 by default, call `tf.keras.backend.set_floatx('float64')`. To change just this layer, pass dtype='float64' to the layer constructor. If you are the author of this layer, you can disable autocasting by passing autocast=False to the base Layer constructor.\n",
      "\n",
      "INFO:tensorflow:Done calling model_fn.\n",
      "INFO:tensorflow:Graph was finalized.\n",
      "INFO:tensorflow:Restoring parameters from C:\\Users\\KAAN_A~1\\AppData\\Local\\Temp\\tmpzz8mk9yj\\model.ckpt-106500\n",
      "INFO:tensorflow:Running local_init_op.\n",
      "INFO:tensorflow:Done running local_init_op.\n"
     ]
    },
    {
     "data": {
      "text/plain": [
       "<matplotlib.axes._subplots.AxesSubplot at 0x1af69281408>"
      ]
     },
     "execution_count": 121,
     "metadata": {},
     "output_type": "execute_result"
    },
    {
     "data": {
      "image/png": "[encoded data removed]",
      "text/plain": [
       "<Figure size 432x288 with 1 Axes>"
      ]
     },
     "metadata": {},
     "output_type": "display_data"
    }
   ],
   "source": [
    "pred_dicts = list(linear_est.predict(eval_input_fn))\n",
    "probs = pd.Series([pred['probabilities'][0] for pred in pred_dicts])\n",
    "\n",
    "probs.plot(kind='hist', bins=20, title='predicted probabilities')"
   ]
  },
  {
   "cell_type": "code",
   "execution_count": null,
   "metadata": {},
   "outputs": [],
   "source": []
  }
 ],
 "metadata": {
  "kernelspec": {
   "display_name": "Python 3",
   "language": "python",
   "name": "python3"
  },
  "language_info": {
   "codemirror_mode": {
    "name": "ipython",
    "version": 3
   },
   "file_extension": ".py",
   "mimetype": "text/x-python",
   "name": "python",
   "nbconvert_exporter": "python",
   "pygments_lexer": "ipython3",
   "version": "3.7.6"
  }
 },
 "nbformat": 4,
 "nbformat_minor": 4
}
