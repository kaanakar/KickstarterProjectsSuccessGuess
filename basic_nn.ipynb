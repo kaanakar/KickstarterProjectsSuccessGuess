{
 "cells": [
  {
   "cell_type": "code",
   "execution_count": 2,
   "metadata": {},
   "outputs": [],
   "source": [
    "# TensorFlow and tf.keras\n",
    "import tensorflow as tf\n",
    "from tensorflow import keras\n",
    "\n",
    "# Helper libraries\n",
    "import numpy as np\n",
    "import matplotlib.pyplot as plt\n",
    "import pandas as pd\n",
    "import seaborn as sns\n",
    "sns.set(style='whitegrid')\n",
    "\n",
    "from IPython.display import clear_output\n",
    "from six.moves import urllib"
   ]
  },
  {
   "cell_type": "code",
   "execution_count": 3,
   "metadata": {},
   "outputs": [
    {
     "name": "stdout",
     "output_type": "stream",
     "text": [
      "input\\ks-projects-201612.csv\n",
      "input\\ks-projects-201801.csv\n"
     ]
    }
   ],
   "source": [
    "import os\n",
    "for dirname, _, filenames in os.walk(\"input\"):\n",
    "    for filename in filenames:\n",
    "        print(os.path.join(dirname, filename))"
   ]
  },
  {
   "cell_type": "code",
   "execution_count": 4,
   "metadata": {},
   "outputs": [],
   "source": [
    "prj2018 = pd.read_csv(\"input\\ks-projects-201801.csv\")"
   ]
  },
  {
   "cell_type": "code",
   "execution_count": 5,
   "metadata": {},
   "outputs": [
    {
     "data": {
      "text/plain": [
       "0            0.0\n",
       "1          100.0\n",
       "2          220.0\n",
       "3            1.0\n",
       "4         1283.0\n",
       "           ...  \n",
       "378656      25.0\n",
       "378657     155.0\n",
       "378658      20.0\n",
       "378659     200.0\n",
       "378660     524.0\n",
       "Name: usd pledged, Length: 378661, dtype: float64"
      ]
     },
     "execution_count": 5,
     "metadata": {},
     "output_type": "execute_result"
    }
   ],
   "source": [
    "prj2018.pop('name')\n",
    "prj2018.pop('ID')\n",
    "prj2018.pop('usd pledged')"
   ]
  },
  {
   "cell_type": "code",
   "execution_count": 6,
   "metadata": {},
   "outputs": [
    {
     "data": {
      "text/plain": [
       "0    2015-10-09\n",
       "1    2017-11-01\n",
       "2    2013-02-26\n",
       "3    2012-04-16\n",
       "4    2015-08-29\n",
       "Name: deadline, dtype: object"
      ]
     },
     "execution_count": 6,
     "metadata": {},
     "output_type": "execute_result"
    }
   ],
   "source": [
    "deadlines = prj2018.pop('deadline')\n",
    "launches = prj2018.pop('launched')\n",
    "deadlines.head()"
   ]
  },
  {
   "cell_type": "code",
   "execution_count": 7,
   "metadata": {},
   "outputs": [
    {
     "data": {
      "text/html": [
       "<div>\n",
       "<style scoped>\n",
       "    .dataframe tbody tr th:only-of-type {\n",
       "        vertical-align: middle;\n",
       "    }\n",
       "\n",
       "    .dataframe tbody tr th {\n",
       "        vertical-align: top;\n",
       "    }\n",
       "\n",
       "    .dataframe thead th {\n",
       "        text-align: right;\n",
       "    }\n",
       "</style>\n",
       "<table border=\"1\" class=\"dataframe\">\n",
       "  <thead>\n",
       "    <tr style=\"text-align: right;\">\n",
       "      <th></th>\n",
       "      <th>time</th>\n",
       "    </tr>\n",
       "  </thead>\n",
       "  <tbody>\n",
       "    <tr>\n",
       "      <th>0</th>\n",
       "      <td>58.0</td>\n",
       "    </tr>\n",
       "    <tr>\n",
       "      <th>1</th>\n",
       "      <td>59.0</td>\n",
       "    </tr>\n",
       "    <tr>\n",
       "      <th>2</th>\n",
       "      <td>44.0</td>\n",
       "    </tr>\n",
       "    <tr>\n",
       "      <th>3</th>\n",
       "      <td>29.0</td>\n",
       "    </tr>\n",
       "    <tr>\n",
       "      <th>4</th>\n",
       "      <td>55.0</td>\n",
       "    </tr>\n",
       "  </tbody>\n",
       "</table>\n",
       "</div>"
      ],
      "text/plain": [
       "   time\n",
       "0  58.0\n",
       "1  59.0\n",
       "2  44.0\n",
       "3  29.0\n",
       "4  55.0"
      ]
     },
     "execution_count": 7,
     "metadata": {},
     "output_type": "execute_result"
    }
   ],
   "source": [
    "count = 0\n",
    "new_data = pd.DataFrame({'time':int()},index = deadlines.index, columns = ['time'],dtype=int) \n",
    "for x in deadlines:\n",
    "    temp_str_1 = str(deadlines.iloc[count])\n",
    "    temp_str_2 = str(launches.iloc[count])\n",
    "    \n",
    "    temp_int_1_y = int(temp_str_1[0:4])\n",
    "    temp_int_2_y = int(temp_str_2[0:4])\n",
    "    temp_int_1_m = int(temp_str_1[5:7])\n",
    "    temp_int_2_m = int(temp_str_2[5:7])\n",
    "    temp_int_1_d = int(temp_str_1[8:])\n",
    "    temp_int_2_d = int(temp_str_2[8:10])\n",
    "    \n",
    "    temp_int = (temp_int_1_y - temp_int_2_y)*365 + (temp_int_1_m - temp_int_2_m)*30 + (temp_int_1_d - temp_int_2_d) + 1.0 - 1.0\n",
    "    #new_data.loc[count] = np.float64(temp_int)\n",
    "    new_data.loc[count] = temp_int\n",
    "    count += 1\n",
    "new_data.head()"
   ]
  },
  {
   "cell_type": "code",
   "execution_count": 8,
   "metadata": {},
   "outputs": [],
   "source": [
    "prj2018 = prj2018.join(new_data)"
   ]
  },
  {
   "cell_type": "code",
   "execution_count": 9,
   "metadata": {},
   "outputs": [],
   "source": [
    "prj2018 = prj2018.query('state != \"live\"')"
   ]
  },
  {
   "cell_type": "code",
   "execution_count": 10,
   "metadata": {},
   "outputs": [],
   "source": [
    "states = pd.DataFrame({'state':int()},index = prj2018.index, columns = ['state'],dtype=int)\n",
    "states.loc[prj2018['state'] == \"successful\", 'state'] = 1\n",
    "states.loc[prj2018['state'] != \"successful\", 'state'] = 0"
   ]
  },
  {
   "cell_type": "code",
   "execution_count": 11,
   "metadata": {},
   "outputs": [],
   "source": [
    "prj2018.pop('state')\n",
    "prj2018 = prj2018.join(states)"
   ]
  },
  {
   "cell_type": "code",
   "execution_count": 21,
   "metadata": {},
   "outputs": [
    {
     "data": {
      "text/plain": [
       "category            category\n",
       "main_category       category\n",
       "currency            category\n",
       "goal                 float64\n",
       "pledged              float64\n",
       "backers                int64\n",
       "country             category\n",
       "usd_pledged_real     float64\n",
       "usd_goal_real        float64\n",
       "time                 float64\n",
       "state                  int32\n",
       "dtype: object"
      ]
     },
     "execution_count": 21,
     "metadata": {},
     "output_type": "execute_result"
    }
   ],
   "source": [
    "prj2018[\"category\"] = prj2018[\"category\"].astype('category')\n",
    "prj2018[\"main_category\"] = prj2018[\"main_category\"].astype('category')\n",
    "prj2018[\"currency\"] = prj2018[\"currency\"].astype('category')\n",
    "prj2018[\"country\"] = prj2018[\"category\"].astype('category')\n",
    "prj2018.dtypes"
   ]
  },
  {
   "cell_type": "code",
   "execution_count": 22,
   "metadata": {},
   "outputs": [
    {
     "data": {
      "text/html": [
       "<div>\n",
       "<style scoped>\n",
       "    .dataframe tbody tr th:only-of-type {\n",
       "        vertical-align: middle;\n",
       "    }\n",
       "\n",
       "    .dataframe tbody tr th {\n",
       "        vertical-align: top;\n",
       "    }\n",
       "\n",
       "    .dataframe thead th {\n",
       "        text-align: right;\n",
       "    }\n",
       "</style>\n",
       "<table border=\"1\" class=\"dataframe\">\n",
       "  <thead>\n",
       "    <tr style=\"text-align: right;\">\n",
       "      <th></th>\n",
       "      <th>category</th>\n",
       "      <th>main_category</th>\n",
       "      <th>currency</th>\n",
       "      <th>goal</th>\n",
       "      <th>pledged</th>\n",
       "      <th>backers</th>\n",
       "      <th>country</th>\n",
       "      <th>usd_pledged_real</th>\n",
       "      <th>usd_goal_real</th>\n",
       "      <th>time</th>\n",
       "      <th>state</th>\n",
       "    </tr>\n",
       "  </thead>\n",
       "  <tbody>\n",
       "    <tr>\n",
       "      <th>0</th>\n",
       "      <td>108</td>\n",
       "      <td>12</td>\n",
       "      <td>5</td>\n",
       "      <td>1000.0</td>\n",
       "      <td>0.0</td>\n",
       "      <td>0</td>\n",
       "      <td>108</td>\n",
       "      <td>0.0</td>\n",
       "      <td>1533.95</td>\n",
       "      <td>58.0</td>\n",
       "      <td>0</td>\n",
       "    </tr>\n",
       "    <tr>\n",
       "      <th>1</th>\n",
       "      <td>93</td>\n",
       "      <td>6</td>\n",
       "      <td>13</td>\n",
       "      <td>30000.0</td>\n",
       "      <td>2421.0</td>\n",
       "      <td>15</td>\n",
       "      <td>93</td>\n",
       "      <td>2421.0</td>\n",
       "      <td>30000.00</td>\n",
       "      <td>59.0</td>\n",
       "      <td>0</td>\n",
       "    </tr>\n",
       "    <tr>\n",
       "      <th>2</th>\n",
       "      <td>93</td>\n",
       "      <td>6</td>\n",
       "      <td>13</td>\n",
       "      <td>45000.0</td>\n",
       "      <td>220.0</td>\n",
       "      <td>3</td>\n",
       "      <td>93</td>\n",
       "      <td>220.0</td>\n",
       "      <td>45000.00</td>\n",
       "      <td>44.0</td>\n",
       "      <td>0</td>\n",
       "    </tr>\n",
       "    <tr>\n",
       "      <th>3</th>\n",
       "      <td>90</td>\n",
       "      <td>10</td>\n",
       "      <td>13</td>\n",
       "      <td>5000.0</td>\n",
       "      <td>1.0</td>\n",
       "      <td>1</td>\n",
       "      <td>90</td>\n",
       "      <td>1.0</td>\n",
       "      <td>5000.00</td>\n",
       "      <td>29.0</td>\n",
       "      <td>0</td>\n",
       "    </tr>\n",
       "    <tr>\n",
       "      <th>4</th>\n",
       "      <td>55</td>\n",
       "      <td>6</td>\n",
       "      <td>13</td>\n",
       "      <td>19500.0</td>\n",
       "      <td>1283.0</td>\n",
       "      <td>14</td>\n",
       "      <td>55</td>\n",
       "      <td>1283.0</td>\n",
       "      <td>19500.00</td>\n",
       "      <td>55.0</td>\n",
       "      <td>0</td>\n",
       "    </tr>\n",
       "  </tbody>\n",
       "</table>\n",
       "</div>"
      ],
      "text/plain": [
       "   category  main_category  currency     goal  pledged  backers  country  \\\n",
       "0       108             12         5   1000.0      0.0        0      108   \n",
       "1        93              6        13  30000.0   2421.0       15       93   \n",
       "2        93              6        13  45000.0    220.0        3       93   \n",
       "3        90             10        13   5000.0      1.0        1       90   \n",
       "4        55              6        13  19500.0   1283.0       14       55   \n",
       "\n",
       "   usd_pledged_real  usd_goal_real  time  state  \n",
       "0               0.0        1533.95  58.0      0  \n",
       "1            2421.0       30000.00  59.0      0  \n",
       "2             220.0       45000.00  44.0      0  \n",
       "3               1.0        5000.00  29.0      0  \n",
       "4            1283.0       19500.00  55.0      0  "
      ]
     },
     "execution_count": 22,
     "metadata": {},
     "output_type": "execute_result"
    }
   ],
   "source": [
    "prj2018[\"category\"] = prj2018[\"category\"].cat.codes\n",
    "prj2018[\"main_category\"] = prj2018[\"main_category\"].cat.codes\n",
    "prj2018[\"currency\"] = prj2018[\"currency\"].cat.codes\n",
    "prj2018[\"country\"] = prj2018[\"country\"].cat.codes\n",
    "prj2018.head()"
   ]
  },
  {
   "cell_type": "code",
   "execution_count": 26,
   "metadata": {},
   "outputs": [],
   "source": [
    "x_prj2018_trn = prj2018.iloc[:340795,:]\n",
    "x_prj2018_eval = prj2018.iloc[340795:,:]"
   ]
  },
  {
   "cell_type": "code",
   "execution_count": 27,
   "metadata": {},
   "outputs": [],
   "source": [
    "y_prj2018_trn = x_prj2018_trn.pop('state')\n",
    "y_prj2018_eval = x_prj2018_eval.pop('state')"
   ]
  },
  {
   "cell_type": "code",
   "execution_count": 28,
   "metadata": {},
   "outputs": [],
   "source": [
    "model = keras.Sequential([\n",
    "    keras.layers.Dense(128, activation='relu'),  \n",
    "    keras.layers.Dense(10, activation='softmax')\n",
    "])"
   ]
  },
  {
   "cell_type": "code",
   "execution_count": 29,
   "metadata": {},
   "outputs": [],
   "source": [
    "model.compile(optimizer='adam',\n",
    "              loss='sparse_categorical_crossentropy',\n",
    "              metrics=['accuracy'])"
   ]
  },
  {
   "cell_type": "code",
   "execution_count": 30,
   "metadata": {},
   "outputs": [
    {
     "name": "stdout",
     "output_type": "stream",
     "text": [
      "Epoch 1/10\n",
      "WARNING:tensorflow:Layer dense is casting an input tensor from dtype float64 to the layer's dtype of float32, which is new behavior in TensorFlow 2.  The layer has dtype float32 because its dtype defaults to floatx.\n",
      "\n",
      "If you intended to run this layer in float32, you can safely ignore this warning. If in doubt, this warning is likely only an issue if you are porting a TensorFlow 1.X model to TensorFlow 2.\n",
      "\n",
      "To change all layers to have dtype float64 by default, call `tf.keras.backend.set_floatx('float64')`. To change just this layer, pass dtype='float64' to the layer constructor. If you are the author of this layer, you can disable autocasting by passing autocast=False to the base Layer constructor.\n",
      "\n",
      "10650/10650 [==============================] - 9s 886us/step - loss: 22.0827 - accuracy: 0.9787\n",
      "Epoch 2/10\n",
      "10650/10650 [==============================] - 9s 883us/step - loss: 12.6758 - accuracy: 0.9832\n",
      "Epoch 3/10\n",
      "10650/10650 [==============================] - 10s 916us/step - loss: 6.1800 - accuracy: 0.9853\n",
      "Epoch 4/10\n",
      "10650/10650 [==============================] - 9s 855us/step - loss: 2.6999 - accuracy: 0.9865\n",
      "Epoch 5/10\n",
      "10650/10650 [==============================] - 10s 920us/step - loss: 1.1703 - accuracy: 0.9887\n",
      "Epoch 6/10\n",
      "10650/10650 [==============================] - 10s 929us/step - loss: 0.1109 - accuracy: 0.9917\n",
      "Epoch 7/10\n",
      "10650/10650 [==============================] - 10s 902us/step - loss: 0.0510 - accuracy: 0.9918\n",
      "Epoch 8/10\n",
      "10650/10650 [==============================] - 10s 903us/step - loss: 0.0590 - accuracy: 0.9922\n",
      "Epoch 9/10\n",
      "10650/10650 [==============================] - 10s 902us/step - loss: 0.0459 - accuracy: 0.9920\n",
      "Epoch 10/10\n",
      "10650/10650 [==============================] - 10s 902us/step - loss: 0.0574 - accuracy: 0.9921\n"
     ]
    },
    {
     "data": {
      "text/plain": [
       "<tensorflow.python.keras.callbacks.History at 0x1ef002fbc48>"
      ]
     },
     "execution_count": 30,
     "metadata": {},
     "output_type": "execute_result"
    }
   ],
   "source": [
    "model.fit(x_prj2018_trn, y_prj2018_trn, epochs=10)"
   ]
  },
  {
   "cell_type": "code",
   "execution_count": 31,
   "metadata": {},
   "outputs": [
    {
     "name": "stdout",
     "output_type": "stream",
     "text": [
      "1096/1096 [==============================] - 1s 763us/step - loss: 0.0369 - accuracy: 0.9923\n",
      "Test accuracy: 0.9922719597816467\n"
     ]
    }
   ],
   "source": [
    "test_loss, test_acc = model.evaluate(x_prj2018_eval,  y_prj2018_eval, verbose=1) \n",
    "\n",
    "print('Test accuracy:', test_acc)"
   ]
  },
  {
   "cell_type": "code",
   "execution_count": null,
   "metadata": {},
   "outputs": [],
   "source": []
  }
 ],
 "metadata": {
  "kernelspec": {
   "display_name": "Python 3",
   "language": "python",
   "name": "python3"
  },
  "language_info": {
   "codemirror_mode": {
    "name": "ipython",
    "version": 3
   },
   "file_extension": ".py",
   "mimetype": "text/x-python",
   "name": "python",
   "nbconvert_exporter": "python",
   "pygments_lexer": "ipython3",
   "version": "3.7.6"
  }
 },
 "nbformat": 4,
 "nbformat_minor": 4
}
